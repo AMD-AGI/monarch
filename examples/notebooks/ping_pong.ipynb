{
 "cells": [
  {
   "cell_type": "markdown",
   "id": "eed8a43f-7b0d-4d44-81f0-f96bb6648d6f",
   "metadata": {},
   "source": [
    "# Monarch\n",
    "\n",
    "One of Monarch's more powerful features is its Actor/endpoint API, which provides a generic interface for distributed computing. In this notebook, we introduce some of the basics"
   ]
  },
  {
   "cell_type": "markdown",
   "id": "40edef57-5d29-46e1-9bf0-7d0fec90a543",
   "metadata": {},
   "source": [
    "## Hello World\n",
    "Actors are spawned in Process meshes via the `monarch.proc_mesh` API. For those familiar with distributed systems, it can be helpful to think of each Actor as a server with endpoints that can be called."
   ]
  },
  {
   "cell_type": "code",
   "execution_count": null,
   "id": "057bdd93-f218-4192-b71c-16045ad77ffe",
   "metadata": {},
   "outputs": [],
   "source": [
    "import asyncio\n",
    "\n",
    "from monarch.proc_mesh import proc_mesh, ProcMesh\n",
    "from monarch.service import Actor, endpoint, current_rank\n",
    "\n",
    "NUM_ACTORS=4\n",
    "\n",
    "class ToyActor(Actor):\n",
    "    def __init__(self):\n",
    "        self.rank = current_rank().rank\n",
    "    \n",
    "    @endpoint\n",
    "    async def hello_world(self, msg):\n",
    "        print(f\"Identity: {self.rank}, {msg=}\")        \n",
    "\n",
    "# Note: Meshes can be also be created on different nodes, but we're ignoring that in this example\n",
    "local_proc_mesh = await proc_mesh(gpus=NUM_ACTORS)\n",
    "# This spawns 4 instances of 'ToyActor'\n",
    "toy_actor = await local_proc_mesh.spawn(\"toy_actor\", ToyActor) "
   ]
  },
  {
   "cell_type": "code",
   "execution_count": null,
   "id": "53bfe107-b4d9-4e33-80b2-dbea14cc4df2",
   "metadata": {},
   "outputs": [],
   "source": [
    "# Once actors are spawned, we can call all of them simultaneiously with `Actor.endpoint.call` as below\n",
    "await toy_actor.hello_world.call(\"hey there, from jupyter!!\")"
   ]
  },
  {
   "cell_type": "code",
   "execution_count": null,
   "id": "a1327cdd-45c6-423b-a05c-e0565555109a",
   "metadata": {},
   "outputs": [],
   "source": [
    "# We can also specify a single actor using the 'slice' API\n",
    "futures = []\n",
    "for idx in range(NUM_ACTORS):\n",
    "    actor_instance = toy_actor.slice(gpus=idx)\n",
    "    futures.append(actor_instance.hello_world.call_one(f\"Here's an arbitrary unique value: {idx}\"))\n",
    "\n",
    "# conveniently, we can still schedule & gather them in parallel using asyncio\n",
    "await asyncio.gather(*futures)"
   ]
  },
  {
   "cell_type": "markdown",
   "id": "b1c727fe-1330-4a12-adeb-82a126397e8e",
   "metadata": {},
   "source": [
    "## Ping Pong\n",
    "Not only is it possible to call endpoints froma 'main' fuction, but actors have the useful property of being able to communicate with one another. "
   ]
  },
  {
   "cell_type": "code",
   "execution_count": null,
   "id": "2c9d37c7-e6d9-452d-bde0-589b8757c9e8",
   "metadata": {},
   "outputs": [],
   "source": [
    "import asyncio\n",
    "\n",
    "from monarch.proc_mesh import proc_mesh, ProcMesh\n",
    "from monarch.service import Actor, endpoint, current_rank\n",
    "\n",
    "class ExampleActor(Actor):\n",
    "    def __init__(self, actor_name):\n",
    "        self.actor_name=actor_name\n",
    "    \n",
    "    @endpoint\n",
    "    async def init(self, other_actor):\n",
    "        self.other_actor = other_actor\n",
    "        self.other_actor_pair = other_actor.slice(**current_rank())\n",
    "        self.identity = current_rank().rank\n",
    "    \n",
    "    @endpoint\n",
    "    async def send(self, msg):\n",
    "        self.other_actor_pair.recv.call(f\"Sender ({self.actor_name}:{self.identity}) {msg=}\")\n",
    "        \n",
    "    @endpoint\n",
    "    async def recv(self, msg):\n",
    "        print(f\"Pong!, Receiver ({self.actor_name}:{self.identity}) received msg {msg}\")\n",
    "\n",
    "# Spawn two different Actors in different meshes, with two instances each\n",
    "local_mesh_0 = await proc_mesh(gpus=2)\n",
    "actor_0 = await local_mesh_0.spawn(\n",
    "    \"actor_0\",\n",
    "    ExampleActor,\n",
    "    \"actor_0\"     # this arg is passed to ExampleActor.__init__\n",
    ") \n",
    "\n",
    "local_mesh_1 = await proc_mesh(gpus=2)\n",
    "actor_1 = await local_mesh_1.spawn(\n",
    "    \"actor_1\",\n",
    "    ExampleActor,\n",
    "    \"actor_1\"     # this arg is passed to ExampleActor.__init__\n",
    ") "
   ]
  },
  {
   "cell_type": "code",
   "execution_count": null,
   "id": "9b1fcb84-83b2-4465-9ff4-141e5b0c4a16",
   "metadata": {},
   "outputs": [],
   "source": [
    "# Initialize each actor with references to each other\n",
    "asyncio.gather(\n",
    "    actor_0.init.call(actor_1),\n",
    "    actor_1.init.call(actor_0),\n",
    ")"
   ]
  },
  {
   "cell_type": "code",
   "execution_count": null,
   "id": "1f44a9fb-9ba4-44cd-af29-e32e3a4c7c65",
   "metadata": {},
   "outputs": [],
   "source": [
    "await actor_0.send.call(\"Ping\")"
   ]
  },
  {
   "cell_type": "code",
   "execution_count": null,
   "id": "282b36b6-9348-48a0-92f5-f29d3401009d",
   "metadata": {},
   "outputs": [],
   "source": [
    "await actor_1.send.call(\"Ping\")"
   ]
  }
 ],
 "metadata": {
  "kernelspec": {
   "display_name": "Python 3 (ipykernel)",
   "language": "python",
   "name": "python3"
  },
  "language_info": {
   "codemirror_mode": {
    "name": "ipython",
    "version": 3
   },
   "file_extension": ".py",
   "mimetype": "text/x-python",
   "name": "python",
   "nbconvert_exporter": "python",
   "pygments_lexer": "ipython3",
   "version": "3.10.16"
  }
 },
 "nbformat": 4,
 "nbformat_minor": 5
}
